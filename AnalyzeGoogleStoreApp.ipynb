{
 "cells": [
  {
   "attachments": {},
   "cell_type": "markdown",
   "metadata": {},
   "source": [
    "# Free or Paid, Rates of Google Play Store Users\n",
    "\n",
    "## Background\n",
    "\n",
    "Users download apps for various usage purposes. Given that paid service is usually better at offering pleasant experience, and that free apps are more accesible to everyone, what are the user opinions towards free and paid apps? \n",
    "\n",
    "More specifically, the following questions are of interest:\n",
    "- How do the ratings differ between paid and free apps in general?\n",
    "- How are the differences distributed across different app categories?\n",
    "- Are there any categories where the differences are statistically significant?\n",
    "\n",
    "To expore answers to the above questions, I narrawed the context to Google Play Store and conducted data analysis on the Kaggle dataset [`Google Play Store`](https://www.kaggle.com/lava18/google-play-store-apps/home),\n",
    "\n",
    "## Acknowledgement\n",
    "I would like to thank Google Play Store and [Lavanya Gupta](https://www.kaggle.com/lava18) for offering the wonderful dataset."
   ]
  },
  {
   "cell_type": "code",
   "execution_count": 1,
   "metadata": {},
   "outputs": [],
   "source": [
    "# import packages\n",
    "\n",
    "import pandas as pd\n",
    "import seaborn as sns\n",
    "import numpy as np\n",
    "import re\n",
    "from scipy.stats import mannwhitneyu\n",
    "from matplotlib import pyplot as plt\n"
   ]
  },
  {
   "cell_type": "code",
   "execution_count": 2,
   "metadata": {},
   "outputs": [
    {
     "data": {
      "text/html": [
       "<div>\n",
       "<style scoped>\n",
       "    .dataframe tbody tr th:only-of-type {\n",
       "        vertical-align: middle;\n",
       "    }\n",
       "\n",
       "    .dataframe tbody tr th {\n",
       "        vertical-align: top;\n",
       "    }\n",
       "\n",
       "    .dataframe thead th {\n",
       "        text-align: right;\n",
       "    }\n",
       "</style>\n",
       "<table border=\"1\" class=\"dataframe\">\n",
       "  <thead>\n",
       "    <tr style=\"text-align: right;\">\n",
       "      <th></th>\n",
       "      <th>App</th>\n",
       "      <th>Category</th>\n",
       "      <th>Rating</th>\n",
       "      <th>Reviews</th>\n",
       "      <th>Size</th>\n",
       "      <th>Installs</th>\n",
       "      <th>Type</th>\n",
       "      <th>Price</th>\n",
       "      <th>Content Rating</th>\n",
       "      <th>Genres</th>\n",
       "      <th>Last Updated</th>\n",
       "      <th>Current Ver</th>\n",
       "      <th>Android Ver</th>\n",
       "    </tr>\n",
       "  </thead>\n",
       "  <tbody>\n",
       "    <tr>\n",
       "      <th>0</th>\n",
       "      <td>Photo Editor &amp; Candy Camera &amp; Grid &amp; ScrapBook</td>\n",
       "      <td>ART_AND_DESIGN</td>\n",
       "      <td>4.1</td>\n",
       "      <td>159</td>\n",
       "      <td>19M</td>\n",
       "      <td>10,000+</td>\n",
       "      <td>Free</td>\n",
       "      <td>0</td>\n",
       "      <td>Everyone</td>\n",
       "      <td>Art &amp; Design</td>\n",
       "      <td>January 7, 2018</td>\n",
       "      <td>1.0.0</td>\n",
       "      <td>4.0.3 and up</td>\n",
       "    </tr>\n",
       "    <tr>\n",
       "      <th>1</th>\n",
       "      <td>Coloring book moana</td>\n",
       "      <td>ART_AND_DESIGN</td>\n",
       "      <td>3.9</td>\n",
       "      <td>967</td>\n",
       "      <td>14M</td>\n",
       "      <td>500,000+</td>\n",
       "      <td>Free</td>\n",
       "      <td>0</td>\n",
       "      <td>Everyone</td>\n",
       "      <td>Art &amp; Design;Pretend Play</td>\n",
       "      <td>January 15, 2018</td>\n",
       "      <td>2.0.0</td>\n",
       "      <td>4.0.3 and up</td>\n",
       "    </tr>\n",
       "    <tr>\n",
       "      <th>2</th>\n",
       "      <td>U Launcher Lite – FREE Live Cool Themes, Hide ...</td>\n",
       "      <td>ART_AND_DESIGN</td>\n",
       "      <td>4.7</td>\n",
       "      <td>87510</td>\n",
       "      <td>8.7M</td>\n",
       "      <td>5,000,000+</td>\n",
       "      <td>Free</td>\n",
       "      <td>0</td>\n",
       "      <td>Everyone</td>\n",
       "      <td>Art &amp; Design</td>\n",
       "      <td>August 1, 2018</td>\n",
       "      <td>1.2.4</td>\n",
       "      <td>4.0.3 and up</td>\n",
       "    </tr>\n",
       "    <tr>\n",
       "      <th>3</th>\n",
       "      <td>Sketch - Draw &amp; Paint</td>\n",
       "      <td>ART_AND_DESIGN</td>\n",
       "      <td>4.5</td>\n",
       "      <td>215644</td>\n",
       "      <td>25M</td>\n",
       "      <td>50,000,000+</td>\n",
       "      <td>Free</td>\n",
       "      <td>0</td>\n",
       "      <td>Teen</td>\n",
       "      <td>Art &amp; Design</td>\n",
       "      <td>June 8, 2018</td>\n",
       "      <td>Varies with device</td>\n",
       "      <td>4.2 and up</td>\n",
       "    </tr>\n",
       "    <tr>\n",
       "      <th>4</th>\n",
       "      <td>Pixel Draw - Number Art Coloring Book</td>\n",
       "      <td>ART_AND_DESIGN</td>\n",
       "      <td>4.3</td>\n",
       "      <td>967</td>\n",
       "      <td>2.8M</td>\n",
       "      <td>100,000+</td>\n",
       "      <td>Free</td>\n",
       "      <td>0</td>\n",
       "      <td>Everyone</td>\n",
       "      <td>Art &amp; Design;Creativity</td>\n",
       "      <td>June 20, 2018</td>\n",
       "      <td>1.1</td>\n",
       "      <td>4.4 and up</td>\n",
       "    </tr>\n",
       "  </tbody>\n",
       "</table>\n",
       "</div>"
      ],
      "text/plain": [
       "                                                 App        Category  Rating  \\\n",
       "0     Photo Editor & Candy Camera & Grid & ScrapBook  ART_AND_DESIGN     4.1   \n",
       "1                                Coloring book moana  ART_AND_DESIGN     3.9   \n",
       "2  U Launcher Lite – FREE Live Cool Themes, Hide ...  ART_AND_DESIGN     4.7   \n",
       "3                              Sketch - Draw & Paint  ART_AND_DESIGN     4.5   \n",
       "4              Pixel Draw - Number Art Coloring Book  ART_AND_DESIGN     4.3   \n",
       "\n",
       "  Reviews  Size     Installs  Type Price Content Rating  \\\n",
       "0     159   19M      10,000+  Free     0       Everyone   \n",
       "1     967   14M     500,000+  Free     0       Everyone   \n",
       "2   87510  8.7M   5,000,000+  Free     0       Everyone   \n",
       "3  215644   25M  50,000,000+  Free     0           Teen   \n",
       "4     967  2.8M     100,000+  Free     0       Everyone   \n",
       "\n",
       "                      Genres      Last Updated         Current Ver  \\\n",
       "0               Art & Design   January 7, 2018               1.0.0   \n",
       "1  Art & Design;Pretend Play  January 15, 2018               2.0.0   \n",
       "2               Art & Design    August 1, 2018               1.2.4   \n",
       "3               Art & Design      June 8, 2018  Varies with device   \n",
       "4    Art & Design;Creativity     June 20, 2018                 1.1   \n",
       "\n",
       "    Android Ver  \n",
       "0  4.0.3 and up  \n",
       "1  4.0.3 and up  \n",
       "2  4.0.3 and up  \n",
       "3    4.2 and up  \n",
       "4    4.4 and up  "
      ]
     },
     "execution_count": 2,
     "metadata": {},
     "output_type": "execute_result"
    }
   ],
   "source": [
    "# Read dataframe and display data\n",
    "df = pd.read_csv('googleplaystore.csv')\n",
    "df.head(5)"
   ]
  },
  {
   "cell_type": "markdown",
   "metadata": {},
   "source": [
    "### Step 0. Explore and Prepare Dataframe"
   ]
  },
  {
   "cell_type": "code",
   "execution_count": 3,
   "metadata": {},
   "outputs": [
    {
     "name": "stdout",
     "output_type": "stream",
     "text": [
      "There are 1181/10841 duplicated records.\n",
      "9660 records after dropping duplicated.\n"
     ]
    }
   ],
   "source": [
    "# check duplicates\n",
    "n_duplicated = df.duplicated(subset=['App']).sum()\n",
    "print(\"There are {}/{} duplicated records.\".format(n_duplicated, df.shape[0]))\n",
    "df_no_dup = df.drop(df.index[df.App.duplicated()], axis=0)\n",
    "print(\"{} records after dropping duplicated.\".format(df_no_dup.shape[0]))"
   ]
  },
  {
   "cell_type": "code",
   "execution_count": 4,
   "metadata": {},
   "outputs": [
    {
     "name": "stdout",
     "output_type": "stream",
     "text": [
      "{nan, 'Paid', 'Free', '0'}\n",
      "Dropping alien Type value '0', 1 record(s) removed\n"
     ]
    }
   ],
   "source": [
    "# Check and clen type values, defer nan value processing to the next cell\n",
    "print(set(df_no_dup.Type))\n",
    "print(\"Dropping alien Type value '0', {} record(s) removed\".format(sum(df_no_dup.Type == '0')))\n",
    "df_no_dup = df_no_dup.drop(df_no_dup.index[df_no_dup.Type == '0'], axis=0)"
   ]
  },
  {
   "cell_type": "code",
   "execution_count": 5,
   "metadata": {},
   "outputs": [
    {
     "name": "stdout",
     "output_type": "stream",
     "text": [
      "NaA value statistics in each column\n",
      "App                  0\n",
      "Category             0\n",
      "Rating            1463\n",
      "Reviews              0\n",
      "Size                 0\n",
      "Installs             0\n",
      "Type                 1\n",
      "Price                0\n",
      "Content Rating       0\n",
      "Genres               0\n",
      "Last Updated         0\n",
      "Current Ver          8\n",
      "Android Ver          2\n",
      "dtype: int64 \n",
      "\n",
      "Column 'Type' with NaN values are dropped, 9658 records left.\n",
      "Cleaned dataframe for 'Rating' has 8196 records.\n"
     ]
    }
   ],
   "source": [
    "# check and drop NaN values\n",
    "print(\"NaA value statistics in each column\")\n",
    "print(df_no_dup.isnull().sum(axis=0),'\\n')\n",
    "df_no_dup = df_no_dup.dropna(subset=['Type'])\n",
    "print(\"Column 'Type' with NaN values are dropped, {} records left.\".format(df_no_dup.shape[0]))\n",
    "\n",
    "# prepare for ranking and installs\n",
    "df_rating = df_no_dup.dropna(subset=['Rating'])\n",
    "print(\"Cleaned dataframe for 'Rating' has {} records.\".format(df_rating.shape[0]))"
   ]
  },
  {
   "cell_type": "code",
   "execution_count": 6,
   "metadata": {},
   "outputs": [],
   "source": [
    "# we are interested in the columns Category, Rating, Type\n",
    "# Drop irrelevant columns for Rating dataframe.\n",
    "df_rating = df_rating.loc[:,['Rating', 'Type', 'Category']]"
   ]
  },
  {
   "cell_type": "code",
   "execution_count": 7,
   "metadata": {},
   "outputs": [],
   "source": [
    "def plot_hist(df, col, bins=10):\n",
    "    \"\"\"\n",
    "    Plot histograms for a column\n",
    "    \"\"\"\n",
    "    plt.hist(df[col], bins=bins)\n",
    "    plt.xlabel(col)\n",
    "    plt.ylabel('counts')\n",
    "    plt.title('Distribution of {}'.format(col))\n",
    "\n",
    "def compute_app_types(df):\n",
    "    \"\"\"\n",
    "    Given a dataframe, compute the number \n",
    "    of free and paid apps respectively\n",
    "    \"\"\"\n",
    "    return sum(df.Type == \"Free\"), sum(df.Type == 'Paid')\n",
    "\n",
    "def plot_app_types(df):\n",
    "    \"\"\"\n",
    "    Plot app type distributions across categories\n",
    "    \"\"\"\n",
    "    vc_rating = df.Category.value_counts()\n",
    "    cat_free_apps = []\n",
    "    cat_paid_apps = []\n",
    "    for cat in vc_rating.index:\n",
    "        n_free, n_paid = compute_app_types(df.query(\"Category == '{}'\".format(cat)))\n",
    "        cat_free_apps.append(n_free)\n",
    "        cat_paid_apps.append(n_paid)\n",
    "\n",
    "    f, ax = plt.subplots(2,1)\n",
    "    ax[0].bar(range(1, len(cat_free_apps)+1), cat_free_apps)\n",
    "    ax[1].bar(range(1, len(cat_free_apps)+1), cat_paid_apps)\n",
    "\n",
    "def drop_categories(df):\n",
    "    \"\"\"\n",
    "    Drop categories with any app type fewer than 10\n",
    "    \"\"\"\n",
    "    vc_rating = df.Category.value_counts()\n",
    "    cats_to_drop = []\n",
    "    for cat in vc_rating.index:\n",
    "        n_free, n_paid = compute_app_types(df.query(\"Category == '{}'\".format(cat)))\n",
    "        if n_free < 10 or n_paid < 10:\n",
    "            cats_to_drop.append(cat)\n",
    "    for cat in cats_to_drop:\n",
    "        df.drop(df.query('Category == \"{}\"'.format(cat)).index, axis=0, inplace=True)\n",
    "    print(\"Deleted categories: {}\".format(cats_to_drop))\n",
    "    return df"
   ]
  },
  {
   "cell_type": "code",
   "execution_count": 8,
   "metadata": {},
   "outputs": [
    {
     "data": {
      "text/html": [
       "<div>\n",
       "<style scoped>\n",
       "    .dataframe tbody tr th:only-of-type {\n",
       "        vertical-align: middle;\n",
       "    }\n",
       "\n",
       "    .dataframe tbody tr th {\n",
       "        vertical-align: top;\n",
       "    }\n",
       "\n",
       "    .dataframe thead th {\n",
       "        text-align: right;\n",
       "    }\n",
       "</style>\n",
       "<table border=\"1\" class=\"dataframe\">\n",
       "  <thead>\n",
       "    <tr style=\"text-align: right;\">\n",
       "      <th></th>\n",
       "      <th>Rating</th>\n",
       "    </tr>\n",
       "  </thead>\n",
       "  <tbody>\n",
       "    <tr>\n",
       "      <th>count</th>\n",
       "      <td>8196.000000</td>\n",
       "    </tr>\n",
       "    <tr>\n",
       "      <th>mean</th>\n",
       "      <td>4.173243</td>\n",
       "    </tr>\n",
       "    <tr>\n",
       "      <th>std</th>\n",
       "      <td>0.536625</td>\n",
       "    </tr>\n",
       "    <tr>\n",
       "      <th>min</th>\n",
       "      <td>1.000000</td>\n",
       "    </tr>\n",
       "    <tr>\n",
       "      <th>25%</th>\n",
       "      <td>4.000000</td>\n",
       "    </tr>\n",
       "    <tr>\n",
       "      <th>50%</th>\n",
       "      <td>4.300000</td>\n",
       "    </tr>\n",
       "    <tr>\n",
       "      <th>75%</th>\n",
       "      <td>4.500000</td>\n",
       "    </tr>\n",
       "    <tr>\n",
       "      <th>max</th>\n",
       "      <td>5.000000</td>\n",
       "    </tr>\n",
       "  </tbody>\n",
       "</table>\n",
       "</div>"
      ],
      "text/plain": [
       "            Rating\n",
       "count  8196.000000\n",
       "mean      4.173243\n",
       "std       0.536625\n",
       "min       1.000000\n",
       "25%       4.000000\n",
       "50%       4.300000\n",
       "75%       4.500000\n",
       "max       5.000000"
      ]
     },
     "execution_count": 8,
     "metadata": {},
     "output_type": "execute_result"
    },
    {
     "data": {
      "image/png": "[encoded data removed]",
      "text/plain": [
       "<Figure size 432x288 with 1 Axes>"
      ]
     },
     "metadata": {
      "needs_background": "light"
     },
     "output_type": "display_data"
    }
   ],
   "source": [
    "# Describe Rating dataframe\n",
    "plot_hist(df_rating, 'Rating')\n",
    "df_rating.describe()"
   ]
  },
  {
   "cell_type": "code",
   "execution_count": 9,
   "metadata": {},
   "outputs": [
    {
     "name": "stdout",
     "output_type": "stream",
     "text": [
      "There are 7592 free and 604 paid apps in the the Rating dataframe \n"
     ]
    }
   ],
   "source": [
    "print(\"There are {} free and {} paid apps in the the Rating dataframe \".format(*compute_app_types(df_rating)))"
   ]
  },
  {
   "cell_type": "code",
   "execution_count": 10,
   "metadata": {},
   "outputs": [
    {
     "data": {
      "image/png": "[encoded data removed]",
      "text/plain": [
       "<Figure size 432x288 with 2 Axes>"
      ]
     },
     "metadata": {
      "needs_background": "light"
     },
     "output_type": "display_data"
    }
   ],
   "source": [
    "# explore the distributions of free and paid apps across different categories\n",
    "plot_app_types(df_rating)"
   ]
  },
  {
   "cell_type": "code",
   "execution_count": 11,
   "metadata": {},
   "outputs": [
    {
     "name": "stdout",
     "output_type": "stream",
     "text": [
      "Deleted categories: ['BUSINESS', 'NEWS_AND_MAGAZINES', 'SOCIAL', 'TRAVEL_AND_LOCAL', 'SHOPPING', 'BOOKS_AND_REFERENCE', 'VIDEO_PLAYERS', 'DATING', 'EDUCATION', 'MAPS_AND_NAVIGATION', 'ENTERTAINMENT', 'FOOD_AND_DRINK', 'AUTO_AND_VEHICLES', 'WEATHER', 'LIBRARIES_AND_DEMO', 'HOUSE_AND_HOME', 'ART_AND_DESIGN', 'COMICS', 'PARENTING', 'EVENTS', 'BEAUTY']\n",
      "Cleaned Rating dataframe has 5753 datapoints\n"
     ]
    }
   ],
   "source": [
    "# Exclude categories with fewer than 10 apps for any of Free or Paid apps\n",
    "# Otherwise the categories contain too few data to generalize result\n",
    "df_rating = drop_categories(df_rating)\n",
    "print(\"Cleaned Rating dataframe has {} datapoints\".format(df_rating.shape[0]))"
   ]
  },
  {
   "cell_type": "code",
   "execution_count": 12,
   "metadata": {},
   "outputs": [
    {
     "data": {
      "text/html": [
       "<div>\n",
       "<style scoped>\n",
       "    .dataframe tbody tr th:only-of-type {\n",
       "        vertical-align: middle;\n",
       "    }\n",
       "\n",
       "    .dataframe tbody tr th {\n",
       "        vertical-align: top;\n",
       "    }\n",
       "\n",
       "    .dataframe thead th {\n",
       "        text-align: right;\n",
       "    }\n",
       "</style>\n",
       "<table border=\"1\" class=\"dataframe\">\n",
       "  <thead>\n",
       "    <tr style=\"text-align: right;\">\n",
       "      <th></th>\n",
       "      <th>Rating</th>\n",
       "    </tr>\n",
       "  </thead>\n",
       "  <tbody>\n",
       "    <tr>\n",
       "      <th>count</th>\n",
       "      <td>5753.000000</td>\n",
       "    </tr>\n",
       "    <tr>\n",
       "      <th>mean</th>\n",
       "      <td>4.173197</td>\n",
       "    </tr>\n",
       "    <tr>\n",
       "      <th>std</th>\n",
       "      <td>0.544844</td>\n",
       "    </tr>\n",
       "    <tr>\n",
       "      <th>min</th>\n",
       "      <td>1.000000</td>\n",
       "    </tr>\n",
       "    <tr>\n",
       "      <th>25%</th>\n",
       "      <td>4.000000</td>\n",
       "    </tr>\n",
       "    <tr>\n",
       "      <th>50%</th>\n",
       "      <td>4.300000</td>\n",
       "    </tr>\n",
       "    <tr>\n",
       "      <th>75%</th>\n",
       "      <td>4.500000</td>\n",
       "    </tr>\n",
       "    <tr>\n",
       "      <th>max</th>\n",
       "      <td>5.000000</td>\n",
       "    </tr>\n",
       "  </tbody>\n",
       "</table>\n",
       "</div>"
      ],
      "text/plain": [
       "            Rating\n",
       "count  5753.000000\n",
       "mean      4.173197\n",
       "std       0.544844\n",
       "min       1.000000\n",
       "25%       4.000000\n",
       "50%       4.300000\n",
       "75%       4.500000\n",
       "max       5.000000"
      ]
     },
     "execution_count": 12,
     "metadata": {},
     "output_type": "execute_result"
    }
   ],
   "source": [
    "df_rating.describe()"
   ]
  },
  {
   "cell_type": "markdown",
   "metadata": {},
   "source": [
    "### Q 1. How do the installation and rating statistics differ in general?"
   ]
  },
  {
   "cell_type": "code",
   "execution_count": 13,
   "metadata": {},
   "outputs": [],
   "source": [
    "def plot_target_by_group(df, target_col, group_col, figsize=(6,4), title=\"\"):\n",
    "    \"\"\"\n",
    "    Plot the mean of a target column (Numeric) groupped by the group_col (categorical)\n",
    "    \"\"\"\n",
    "    order = sorted(list(set(df[group_col])))\n",
    "    stats = df.groupby(group_col).mean()[target_col]\n",
    "    fig, ax = plt.subplots(figsize=figsize)\n",
    "    sns.barplot(x=group_col, y=target_col, data=df, ax=ax, order=order).set_title(title)\n",
    "    ax.set(ylim=(3.8, 4.5))    \n",
    "    return stats"
   ]
  },
  {
   "cell_type": "code",
   "execution_count": 14,
   "metadata": {},
   "outputs": [
    {
     "name": "stdout",
     "output_type": "stream",
     "text": [
      "Free app has average Rating 4.163495108382891\n",
      "Paid app has average Rating 4.266851851851849\n",
      "Mean rating: 4.173196593081873\n"
     ]
    },
    {
     "name": "stderr",
     "output_type": "stream",
     "text": [
      "/home/chen/anaconda3/lib/python3.6/site-packages/scipy/stats/stats.py:1713: FutureWarning: Using a non-tuple sequence for multidimensional indexing is deprecated; use `arr[tuple(seq)]` instead of `arr[seq]`. In the future this will be interpreted as an array index, `arr[np.array(seq)]`, which will result either in an error or a different result.\n",
      "  return np.add.reduce(sorted[indexer] * weights, axis=axis) / sumval\n"
     ]
    },
    {
     "data": {
      "image/png": "[encoded data removed]",
      "text/plain": [
       "<Figure size 432x288 with 1 Axes>"
      ]
     },
     "metadata": {
      "needs_background": "light"
     },
     "output_type": "display_data"
    }
   ],
   "source": [
    "stats = plot_target_by_group(df_rating, 'Rating', 'Type', title=\"Average Rating Groupped by App Type\")\n",
    "for i, s in zip(stats.index, stats):\n",
    "    print(\"{} app has average {} {}\".format(i, 'Rating',s))\n",
    "mean_rating = df_rating.Rating.mean()\n",
    "print(\"Mean rating: {}\".format(mean_rating))"
   ]
  },
  {
   "cell_type": "markdown",
   "metadata": {},
   "source": [
    "#### Discussion\n",
    "In general, Free apps, with an average rating of 4.16, are lower rated than Paid apps which has an average rate 4.27. Note that the average rating score for all apps is 4.17, so Free apps are rated below average, while Paid apps are rated reletively higher than the average score."
   ]
  },
  {
   "cell_type": "markdown",
   "metadata": {},
   "source": [
    "### Q2 How are the differences distributed across different app categories?"
   ]
  },
  {
   "cell_type": "code",
   "execution_count": 15,
   "metadata": {},
   "outputs": [
    {
     "data": {
      "image/png": "[encoded data removed]",
      "text/plain": [
       "<Figure size 1152x288 with 1 Axes>"
      ]
     },
     "metadata": {
      "needs_background": "light"
     },
     "output_type": "display_data"
    },
    {
     "data": {
      "image/png": "[encoded data removed]",
      "text/plain": [
       "<Figure size 1152x288 with 1 Axes>"
      ]
     },
     "metadata": {
      "needs_background": "light"
     },
     "output_type": "display_data"
    }
   ],
   "source": [
    "paid_stats = plot_target_by_group(df_rating.query('Type == \"Paid\"'), 'Rating', 'Category', (16, 4), \"(Paid App) Average Ratings by App Category\")\n",
    "free_stats = plot_target_by_group(df_rating.query('Type == \"Free\"'), 'Rating', 'Category', (16, 4), \"(Free App) Average Ratings by App Category\")"
   ]
  },
  {
   "cell_type": "code",
   "execution_count": 16,
   "metadata": {},
   "outputs": [
    {
     "data": {
      "text/plain": [
       "Category\n",
       "COMMUNICATION        -0.063287\n",
       "FAMILY                0.115128\n",
       "FINANCE              -0.297604\n",
       "GAME                  0.136364\n",
       "HEALTH_AND_FITNESS    0.154858\n",
       "LIFESTYLE             0.166608\n",
       "MEDICAL               0.087344\n",
       "PERSONALIZATION       0.147692\n",
       "PHOTOGRAPHY          -0.152796\n",
       "PRODUCTIVITY          0.023577\n",
       "SPORTS                0.041940\n",
       "TOOLS                 0.142818\n",
       "Name: Rating, dtype: float64"
      ]
     },
     "execution_count": 16,
     "metadata": {},
     "output_type": "execute_result"
    },
    {
     "data": {
      "image/png": "[encoded data removed]",
      "text/plain": [
       "<Figure size 1152x288 with 1 Axes>"
      ]
     },
     "metadata": {
      "needs_background": "light"
     },
     "output_type": "display_data"
    }
   ],
   "source": [
    "fig, ax = plt.subplots(figsize=(16,4))\n",
    "sorted_idx = sorted(paid_stats.index)\n",
    "rating_diff = paid_stats[sorted_idx] - free_stats[sorted_idx]\n",
    "sns.barplot(x=sorted_idx, y=rating_diff, ax=ax).set_title(\"Difference of Ratings between Paid and Free Apps Across App Categories\");\n",
    "rating_diff"
   ]
  },
  {
   "cell_type": "markdown",
   "metadata": {},
   "source": [
    "#### Discussion\n",
    "Although paid apps are in general more highly rated than free apps, and so are in most app categories, there are also some app categories where free apps are likely to be favored more than the paid apps. For instance, apps in COMMUNICATION, FINANCE and PHOTOGRAPHY are three such categories. In FINANCE category, the free apps on average are rated almost 0.3 higher than the paid apps, the largest differences made among all the categories.\n"
   ]
  },
  {
   "cell_type": "markdown",
   "metadata": {},
   "source": [
    "### Q3 Are there any categories where the differences are statistically significant?"
   ]
  },
  {
   "cell_type": "code",
   "execution_count": 17,
   "metadata": {},
   "outputs": [
    {
     "name": "stdout",
     "output_type": "stream",
     "text": [
      "General ttest result: pval 4.17841444099998e-10, u 1182741.0\n"
     ]
    },
    {
     "data": {
      "text/html": [
       "<div>\n",
       "<style scoped>\n",
       "    .dataframe tbody tr th:only-of-type {\n",
       "        vertical-align: middle;\n",
       "    }\n",
       "\n",
       "    .dataframe tbody tr th {\n",
       "        vertical-align: top;\n",
       "    }\n",
       "\n",
       "    .dataframe thead th {\n",
       "        text-align: right;\n",
       "    }\n",
       "</style>\n",
       "<table border=\"1\" class=\"dataframe\">\n",
       "  <thead>\n",
       "    <tr style=\"text-align: right;\">\n",
       "      <th></th>\n",
       "      <th>cat</th>\n",
       "      <th>pval</th>\n",
       "      <th>ustats</th>\n",
       "    </tr>\n",
       "  </thead>\n",
       "  <tbody>\n",
       "    <tr>\n",
       "      <th>2</th>\n",
       "      <td>GAME</td>\n",
       "      <td>0.000191</td>\n",
       "      <td>24001.0</td>\n",
       "    </tr>\n",
       "    <tr>\n",
       "      <th>5</th>\n",
       "      <td>TOOLS</td>\n",
       "      <td>0.003025</td>\n",
       "      <td>16327.0</td>\n",
       "    </tr>\n",
       "    <tr>\n",
       "      <th>6</th>\n",
       "      <td>PERSONALIZATION</td>\n",
       "      <td>0.002357</td>\n",
       "      <td>5845.5</td>\n",
       "    </tr>\n",
       "    <tr>\n",
       "      <th>11</th>\n",
       "      <td>FAMILY</td>\n",
       "      <td>0.000036</td>\n",
       "      <td>90258.0</td>\n",
       "    </tr>\n",
       "  </tbody>\n",
       "</table>\n",
       "</div>"
      ],
      "text/plain": [
       "                cat      pval   ustats\n",
       "2              GAME  0.000191  24001.0\n",
       "5             TOOLS  0.003025  16327.0\n",
       "6   PERSONALIZATION  0.002357   5845.5\n",
       "11           FAMILY  0.000036  90258.0"
      ]
     },
     "execution_count": 17,
     "metadata": {},
     "output_type": "execute_result"
    }
   ],
   "source": [
    "def compute_utest(df):\n",
    "    \"\"\"\n",
    "    Compute Mann-Whitney rank tests\n",
    "    for paid and free app ratings\n",
    "    \"\"\"\n",
    "    paid_rating = df.query('Type == \"Paid\"')['Rating']\n",
    "    free_rating = df.query('Type == \"Free\"')['Rating']\n",
    "    return mannwhitneyu(paid_rating, free_rating)\n",
    "\n",
    "def cat_utest(df):\n",
    "    \"\"\"\n",
    "    Compute utest for each app category\n",
    "    \"\"\"\n",
    "    cats = set(df.Category)\n",
    "    res = []\n",
    "    for cat in cats:\n",
    "        stats, pval = compute_utest(df.query('Category == \"{}\"'.format(cat)))\n",
    "        res.append({'cat':cat,\n",
    "                    'ustats':stats,\n",
    "                    'pval':pval})\n",
    "    return pd.DataFrame(res)\n",
    "\n",
    "uval, pval = compute_utest(df_rating)\n",
    "\n",
    "print(\"General ttest result: pval {}, u {}\".format(pval, uval))\n",
    "df_utest = cat_utest(df_rating)   \n",
    "df_utest.loc[df_utest.pval < .05] # significant categories"
   ]
  },
  {
   "cell_type": "markdown",
   "metadata": {},
   "source": [
    "#### Discussion\n",
    "As rating is not normal distributed, Mann-Whitney's U test was applied to test the significance of rating differences, as this test if free from a normal distribution assumption. At the 0.05 significance level, results of the u tests on different categories demonstrate that the free and paid apps in the following categories have significant rating differences: personalization, tools, family and games. Paid apps are on average higher rated than free apps in these categories."
   ]
  },
  {
   "cell_type": "markdown",
   "metadata": {},
   "source": [
    "### Concluding Remarks\n",
    "\n",
    "Data analysis was conducted on the Kaggle Google Play Store dataset, the answers to the three questions were explored:\n",
    "- How do the ratings differ between paid and free apps in general?\n",
    "  In general, Paid apps are better-rated than free apps, which supports the argument that service quility of the paid apps tend to be better.\n",
    "- How are the differences distributed across different app categories?\n",
    "  In most categories, Paid apps achieve higher ratings than free apps, however, in a few categories such as COMMUNICATION, FINANCE and PHOTOGRAPHY, the average ratings of free apps are higher than those of paid apps. Does it imply that some popular apps in these categories are free, like facebook and whatsapp in the COMMUNICATION category?\n",
    "- Are there any categories where the differences are statistically significant?\n",
    "  There are four categories (PERSONALIZATION, TOOLS, FAMILY and GAME) where paid apps are rated significantly higher than free apps.\n",
    "  \n",
    "This is only a very initial exploration of the Google Play Store dataset. There are many other useful information including installation counts and app review texts, which might entail many more interesting facts.\n",
    "  \n",
    "\n",
    "  \n",
    "\n"
   ]
  }
 ],
 "metadata": {
  "kernelspec": {
   "display_name": "Python 3",
   "language": "python",
   "name": "python3"
  },
  "language_info": {
   "codemirror_mode": {
    "name": "ipython",
    "version": 3
   },
   "file_extension": ".py",
   "mimetype": "text/x-python",
   "name": "python",
   "nbconvert_exporter": "python",
   "pygments_lexer": "ipython3",
   "version": "3.6.6"
  }
 },
 "nbformat": 4,
 "nbformat_minor": 2
}
